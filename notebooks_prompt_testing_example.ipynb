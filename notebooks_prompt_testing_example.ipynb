{
  "cells": [
    {
      "cell_type": "markdown",
      "metadata": {},
      "source": [
        "# \ud83d\udcca Prompt Evaluation\n",
        "\n",
        "This notebook tests prompt performance using an OpenAI API (or Anthropic):\n",
        "- Few-shot vs Zero-shot\n",
        "- Output consistency\n",
        "- Hallucination detection"
      ]
    },
    {
      "cell_type": "code",
      "execution_count": null,
      "metadata": {},
      "outputs": [],
      "source": [
        "# Sample prompt execution using OpenAI API\n",
        "import openai\n",
        "openai.api_key = 'your-api-key-here'\n\n",
        "response = openai.ChatCompletion.create(\n",
        "    model='gpt-4',\n",
        "    messages=[\n",
        "        {\"role\": \"system\", \"content\": \"You are an assistant that helps debug code.\"},\n",
        "        {\"role\": \"user\", \"content\": \"Explain why this function fails.\"}\n",
        "    ]\n",
        ")\n",
        "print(response['choices'][0]['message']['content'])"
      ]
    }
  ],
  "metadata": {
    "kernelspec": {
      "display_name": "Python 3",
      "language": "python",
      "name": "python3"
    },
    "language_info": {
      "name": "python",
      "version": "3.8"
    }
  },
  "nbformat": 4,
  "nbformat_minor": 2
}